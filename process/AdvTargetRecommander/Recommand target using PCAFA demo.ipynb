{
 "cells": [
  {
   "cell_type": "code",
   "execution_count": 19,
   "metadata": {},
   "outputs": [],
   "source": [
    "import numpy as np\n",
    "import pandas as pd\n",
    "from sqlalchemy import create_engine\n",
    "import urllib.parse\n",
    "from sklearn.decomposition import FactorAnalysis, PCA\n",
    "from sklearn.preprocessing import StandardScaler\n",
    "import matplotlib.pyplot as plt\n",
    "import seaborn as sns\n",
    "from scipy.spatial.distance import euclidean\n",
    "import ast\n",
    "import json\n",
    "from util_pcafa import *\n",
    "from util_data import *"
   ]
  },
  {
   "cell_type": "markdown",
   "metadata": {},
   "source": [
    "##### __SQL 연결__: 필요한 데이터 가져오기"
   ]
  },
  {
   "cell_type": "code",
   "execution_count": 20,
   "metadata": {},
   "outputs": [],
   "source": [
    "# MySQL 연결 정보 설정\n",
    "with open(f'./SQL_parameter.json', 'r') as file:\n",
    "    par = json.load(file)\n",
    "\n",
    "# MySQL 연결 정보 설정\n",
    "host = par['host']\n",
    "port = par['port']\n",
    "username = par['username']\n",
    "password = par['password']\n",
    "database = par['database']\n",
    "\n",
    "# 비밀번호 URL 인코딩\n",
    "encoded_password = urllib.parse.quote_plus(password)\n",
    "\n",
    "# SQLAlchemy 엔진 생성\n",
    "engine = create_engine(f\"mysql+pymysql://{username}:{encoded_password}@{host}:{port}/{database}\")\n",
    "\n",
    "query = \"SELECT * FROM ad_gaze\"\n",
    "ad_gaze = pd.read_sql(query, engine)\n",
    "\n",
    "query = \"SELECT * FROM ad_info\"\n",
    "ad_info = pd.read_sql(query, engine)\n",
    "\n",
    "query = \"SELECT * FROM target\"\n",
    "ad_target = pd.read_sql(query, engine)\n",
    "ad_target['target_info'] = ad_target['target_info'].apply(ast.literal_eval)\n",
    "\n",
    "query = \"SELECT * FROM frame\"\n",
    "frame = pd.read_sql(query, engine)"
   ]
  },
  {
   "cell_type": "code",
   "execution_count": 21,
   "metadata": {},
   "outputs": [],
   "source": [
    "bins = [0, 20, 30, 40, 50, 60, float('inf')]\n",
    "labels = ['10gen', '20gen', '30gen', '40gen', '50gen', '60gen']\n",
    "ad_gaze['age_group'] = pd.cut(ad_gaze['pre_age'], \n",
    "                        bins=bins, \n",
    "                        labels=labels, \n",
    "                        right=False)"
   ]
  },
  {
   "cell_type": "code",
   "execution_count": 22,
   "metadata": {},
   "outputs": [],
   "source": [
    "target = '탑마루' # 이후 리스트화 해서 반복문 거는 방향으로...\n",
    "loc_num = 90\n",
    "ad_id = ad_info[(ad_info['title']==target) & (ad_info['region_id']==loc_num)]['ad_id'].iloc[0]\n",
    "frame_ids = frame[frame['ad_id']==ad_id]['id'].to_list()\n",
    "ad_gt = ad_gaze[ad_gaze['frame_id'].isin(frame_ids)].copy() #adv_gt: adv_gaze_target\n",
    "ad_gt.reset_index(drop='index', inplace=True)\n",
    "ad_gt['gazed_num'] =  ad_gt['gazed'].cumsum()"
   ]
  },
  {
   "cell_type": "code",
   "execution_count": 23,
   "metadata": {},
   "outputs": [],
   "source": [
    "pd.set_option('future.no_silent_downcasting', True)\n",
    "data_pre = preprocessing_data(ad_gt)"
   ]
  },
  {
   "cell_type": "markdown",
   "metadata": {},
   "source": [
    "#### __PCA__: 차원 축소를 위해 사용\n",
    "- 누적 설명변수가 전체의 70% 이상이 되는 주성분 수 추출"
   ]
  },
  {
   "cell_type": "code",
   "execution_count": 24,
   "metadata": {},
   "outputs": [
    {
     "name": "stdout",
     "output_type": "stream",
     "text": [
      "1 0.8207801061570276\n"
     ]
    }
   ],
   "source": [
    "cumm_evr, num, data_pre_, pca_df = apply_PCA(data_pre)\n",
    "print(cumm_evr, num)"
   ]
  },
  {
   "cell_type": "markdown",
   "metadata": {},
   "source": [
    "#### __요인 분석__: gazed_num 값 변동에 주요인자로 작용하는 변수 탐색\n",
    "- 각 변수 별 주성분 scatter로 시각화 (이건 그냥 보여주기용 필요 없음)\n",
    "- scatter 상에서 gazed_num과 가장 가까운 변수들 위주로 선택"
   ]
  },
  {
   "cell_type": "code",
   "execution_count": null,
   "metadata": {},
   "outputs": [],
   "source": [
    "# 요인분석\n",
    "# 응시하는 보행자 분석결과 기반로 재추천 리스트 생성\n",
    "recommand_target_df,fa_df = Apply_FA(cumm_evr, 0.8, data_pre_)"
   ]
  },
  {
   "cell_type": "code",
   "execution_count": 26,
   "metadata": {},
   "outputs": [],
   "source": [
    "# 재추천 결과 출력을 위한 문자열 변환 함수\n",
    "def format_age_groups(ages):\n",
    "    return [age.replace('gen', '대') for age in ages if 'gen' in age]\n",
    "\n",
    "def format_gender(list):\n",
    "    if 'male' in list:\n",
    "        return '남성'\n",
    "    elif 'female' in list:\n",
    "        return '여성'\n",
    "    elif 'all' in list:\n",
    "        return '모두'\n",
    "    if ('male' in list) and ('female' in list):\n",
    "        return '모두'\n",
    "    if ('male' not in list) and ('female' not in list):\n",
    "        return '모두'"
   ]
  },
  {
   "cell_type": "code",
   "execution_count": 27,
   "metadata": {},
   "outputs": [
    {
     "data": {
      "text/plain": [
       "0    [all, 10gen, 20gen, 30gen, 40gen, 50gen]\n",
       "Name: target_info, dtype: object"
      ]
     },
     "execution_count": 27,
     "metadata": {},
     "output_type": "execute_result"
    }
   ],
   "source": [
    "target_id = ad_info['target_id'].iloc[0]\n",
    "ad_target[ad_target['id']==target_id]['target_info']"
   ]
  },
  {
   "cell_type": "code",
   "execution_count": 28,
   "metadata": {},
   "outputs": [],
   "source": [
    "raw_target = ad_target[ad_target['id']==target_id]['target_info'].iloc[0]\n",
    "recommand_target = list(recommand_target_df.index)"
   ]
  },
  {
   "cell_type": "code",
   "execution_count": 29,
   "metadata": {},
   "outputs": [
    {
     "data": {
      "text/plain": [
       "<function list.index(value, start=0, stop=9223372036854775807, /)>"
      ]
     },
     "metadata": {},
     "output_type": "display_data"
    },
    {
     "name": "stdout",
     "output_type": "stream",
     "text": [
      "상품명: 탑마루\n",
      "\n",
      "\n",
      "설정된 광고대상\n",
      "성별: 모두\n",
      "연령대: 10대, 20대, 30대, 40대, 50대\n",
      "\n",
      "\n",
      "추천 광고대상\n",
      "성별: 남성\n",
      "연령대: 10대, 20대, 30대, 40대, 50대, 60대\n"
     ]
    }
   ],
   "source": [
    "display(recommand_target.index)\n",
    "print(f\"상품명: {target}\")\n",
    "print('\\n')\n",
    "print('설정된 광고대상')\n",
    "print(f'성별: {format_gender(raw_target[0])}')\n",
    "print(f'연령대: {\", \".join(format_age_groups(raw_target))}')\n",
    "print('\\n')\n",
    "print('추천 광고대상')\n",
    "print(f'성별: {format_gender(recommand_target[0])}')\n",
    "print(f'연령대: {\", \".join(format_age_groups(recommand_target))}')"
   ]
  },
  {
   "cell_type": "code",
   "execution_count": null,
   "metadata": {},
   "outputs": [
    {
     "data": {
      "image/png": "[encoded data removed]",
      "text/plain": [
       "<Figure size 322.736x250 with 2 Axes>"
      ]
     },
     "metadata": {},
     "output_type": "display_data"
    }
   ],
   "source": [
    "fa_pairplot(fa_df)"
   ]
  },
  {
   "cell_type": "code",
   "execution_count": 31,
   "metadata": {},
   "outputs": [
    {
     "data": {
      "text/html": [
       "<div>\n",
       "<style scoped>\n",
       "    .dataframe tbody tr th:only-of-type {\n",
       "        vertical-align: middle;\n",
       "    }\n",
       "\n",
       "    .dataframe tbody tr th {\n",
       "        vertical-align: top;\n",
       "    }\n",
       "\n",
       "    .dataframe thead th {\n",
       "        text-align: right;\n",
       "    }\n",
       "</style>\n",
       "<table border=\"1\" class=\"dataframe\">\n",
       "  <thead>\n",
       "    <tr style=\"text-align: right;\">\n",
       "      <th></th>\n",
       "      <th>PC1</th>\n",
       "      <th>distance</th>\n",
       "    </tr>\n",
       "  </thead>\n",
       "  <tbody>\n",
       "    <tr>\n",
       "      <th>male</th>\n",
       "      <td>0.998057</td>\n",
       "      <td>0.046855</td>\n",
       "    </tr>\n",
       "    <tr>\n",
       "      <th>female</th>\n",
       "      <td>0.995703</td>\n",
       "      <td>0.044501</td>\n",
       "    </tr>\n",
       "    <tr>\n",
       "      <th>10gen</th>\n",
       "      <td>0.420826</td>\n",
       "      <td>0.530376</td>\n",
       "    </tr>\n",
       "    <tr>\n",
       "      <th>20gen</th>\n",
       "      <td>0.949811</td>\n",
       "      <td>0.001391</td>\n",
       "    </tr>\n",
       "    <tr>\n",
       "      <th>30gen</th>\n",
       "      <td>0.999983</td>\n",
       "      <td>0.048781</td>\n",
       "    </tr>\n",
       "    <tr>\n",
       "      <th>40gen</th>\n",
       "      <td>0.985610</td>\n",
       "      <td>0.034408</td>\n",
       "    </tr>\n",
       "    <tr>\n",
       "      <th>50gen</th>\n",
       "      <td>0.861474</td>\n",
       "      <td>0.089728</td>\n",
       "    </tr>\n",
       "    <tr>\n",
       "      <th>60gen</th>\n",
       "      <td>0.808846</td>\n",
       "      <td>0.142356</td>\n",
       "    </tr>\n",
       "    <tr>\n",
       "      <th>gaze_num</th>\n",
       "      <td>0.951202</td>\n",
       "      <td>0.000000</td>\n",
       "    </tr>\n",
       "  </tbody>\n",
       "</table>\n",
       "</div>"
      ],
      "text/plain": [
       "               PC1  distance\n",
       "male      0.998057  0.046855\n",
       "female    0.995703  0.044501\n",
       "10gen     0.420826  0.530376\n",
       "20gen     0.949811  0.001391\n",
       "30gen     0.999983  0.048781\n",
       "40gen     0.985610  0.034408\n",
       "50gen     0.861474  0.089728\n",
       "60gen     0.808846  0.142356\n",
       "gaze_num  0.951202  0.000000"
      ]
     },
     "execution_count": 31,
     "metadata": {},
     "output_type": "execute_result"
    }
   ],
   "source": [
    "fa_df"
   ]
  },
  {
   "cell_type": "code",
   "execution_count": null,
   "metadata": {},
   "outputs": [],
   "source": []
  }
 ],
 "metadata": {
  "kernelspec": {
   "display_name": "BigProject",
   "language": "python",
   "name": "python3"
  },
  "language_info": {
   "codemirror_mode": {
    "name": "ipython",
    "version": 3
   },
   "file_extension": ".py",
   "mimetype": "text/x-python",
   "name": "python",
   "nbconvert_exporter": "python",
   "pygments_lexer": "ipython3",
   "version": "3.12.8"
  }
 },
 "nbformat": 4,
 "nbformat_minor": 2
}
