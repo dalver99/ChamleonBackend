{
 "cells": [
  {
   "cell_type": "code",
   "execution_count": 2,
   "metadata": {
    "executionInfo": {
     "elapsed": 49,
     "status": "ok",
     "timestamp": 1736748983948,
     "user": {
      "displayName": "김 선우",
      "userId": "08412778136116235349"
     },
     "user_tz": -540
    },
    "id": "YGO0n_TMsqWg"
   },
   "outputs": [],
   "source": [
    "import os\n",
    "import pandas as pd\n",
    "from sqlalchemy import create_engine\n",
    "import json\n",
    "\n",
    "from sklearn.preprocessing import MinMaxScaler\n",
    "from datetime import datetime, timedelta\n",
    "\n",
    "from RecAlg import GazeData\n",
    "from RecAlg import PopulatioData\n",
    "from RecAlg import SearchTrendData\n",
    "from RecAlg import ExportAdvList\n",
    "from util_data import *\n",
    "from random import randint\n",
    "# from exposure_insert import insert_exposure_data_from_dataframe\n",
    "\n",
    "pd.set_option('future.no_silent_downcasting', True)"
   ]
  },
  {
   "cell_type": "code",
   "execution_count": 3,
   "metadata": {},
   "outputs": [],
   "source": [
    "# MySQL 연결 정보 설정\n",
    "with open(f'SQL_parameter.json', 'r') as file:\n",
    "    par = json.load(file)\n",
    "\n",
    "host = par['host']\n",
    "port = par['port']\n",
    "username = par['username']\n",
    "password = par['password']\n",
    "database = par['database']"
   ]
  },
  {
   "cell_type": "code",
   "execution_count": 4,
   "metadata": {},
   "outputs": [],
   "source": [
    "# 비밀번호 URL 인코딩\n",
    "encoded_password = urllib.parse.quote_plus(password)\n",
    "\n",
    "# SQLAlchemy 엔진 생성\n",
    "engine = create_engine(f\"mysql+pymysql://{username}:{encoded_password}@{host}:{port}/{database}\")\n",
    "ad_gaze, ad_info, ad_target, ad_images, frames, categories = import_data(engine)"
   ]
  },
  {
   "cell_type": "code",
   "execution_count": 5,
   "metadata": {},
   "outputs": [],
   "source": [
    "# 지역 선택\n",
    "target = '군자역' # [1:삼각지역, 2:군자역, 3:회기역, 4:'용산역]\n",
    "loc_num = 2"
   ]
  },
  {
   "cell_type": "code",
   "execution_count": 6,
   "metadata": {
    "executionInfo": {
     "elapsed": 424,
     "status": "ok",
     "timestamp": 1736749178994,
     "user": {
      "displayName": "김 선우",
      "userId": "08412778136116235349"
     },
     "user_tz": -540
    },
    "id": "VEdBauC9Uem0"
   },
   "outputs": [],
   "source": [
    "# 응시횟수 기반 광고 순서 결정\n",
    "df1 = GazeData.score_temp(ad_info, loc_num, ad_target)\n",
    "ad_gaze = GazeData.gaze_temp(ad_gaze, ad_info, frames)\n",
    "df_target = GazeData.calculate_score(ad_gaze, df1)\n",
    "keywords = list(df1['name'])\n",
    "df_gazed = GazeData.generate_add_actual(ad_gaze, keywords)\n",
    "gazed_df = GazeData.ranked_add_actual(df_gazed)"
   ]
  },
  {
   "cell_type": "code",
   "execution_count": 12,
   "metadata": {},
   "outputs": [],
   "source": [
    "pop = PopulatioData.import_data(engine, loc_num)\n",
    "pop, new_columns = PopulatioData.calculate_columns(pop)"
   ]
  },
  {
   "cell_type": "code",
   "execution_count": null,
   "metadata": {},
   "outputs": [],
   "source": [
    "# 네이버 실시간 검색어 트랜드 -> ture에서만 제대로 작동동\n",
    "keywords = list(gazed_df.index)\n",
    "Search_option = False\n",
    "if Search_option == True:\n",
    "    naver_df = SearchTrendData.get_final_df(keywords)\n",
    "    naver_df.to_csv('SearchTrend.csv')\n",
    "else:\n",
    "    naver_df = pd.read_csv('SearchTrend.csv', index_col=0)"
   ]
  },
  {
   "cell_type": "code",
   "execution_count": 19,
   "metadata": {},
   "outputs": [
    {
     "name": "stderr",
     "output_type": "stream",
     "text": [
      "WARNING:absl:Compiled the loaded model, but the compiled metrics have yet to be built. `model.compile_metrics` will be empty until you train or evaluate the model.\n"
     ]
    },
    {
     "name": "stdout",
     "output_type": "stream",
     "text": [
      "\u001b[1m1/1\u001b[0m \u001b[32m━━━━━━━━━━━━━━━━━━━━\u001b[0m\u001b[37m\u001b[0m \u001b[1m1s\u001b[0m 575ms/step\n"
     ]
    },
    {
     "name": "stderr",
     "output_type": "stream",
     "text": [
      "d:\\backend_test\\bigprojectbackend\\process\\AdvExposureGenerator\\util_data.py:208: FutureWarning: The behavior of DataFrame concatenation with empty or all-NA entries is deprecated. In a future version, this will no longer exclude empty or all-NA columns when determining the result dtypes. To retain the old behavior, exclude the relevant entries before the concat operation.\n",
      "  final_exposure = pd.concat([final_exposure, new_rows.iloc[:ad_num]], ignore_index=True)\n"
     ]
    }
   ],
   "source": [
    "st_date = '2025-01-08'\n",
    "final_exposure = export_exposure_using_lstm(gazed_df, naver_df, pop, st_date)"
   ]
  },
  {
   "cell_type": "code",
   "execution_count": 20,
   "metadata": {},
   "outputs": [
    {
     "name": "stderr",
     "output_type": "stream",
     "text": [
      "d:\\backend_test\\bigprojectbackend\\process\\AdvExposureGenerator\\util_data.py:108: FutureWarning: The behavior of DataFrame concatenation with empty or all-NA entries is deprecated. In a future version, this will no longer exclude empty or all-NA columns when determining the result dtypes. To retain the old behavior, exclude the relevant entries before the concat operation.\n",
      "  final_exposure = pd.concat([final_exposure, new_rows.iloc[:ad_num]], ignore_index=True)\n"
     ]
    }
   ],
   "source": [
    "final_exposure = export_exposure_only_data(gazed_df, naver_df, pop, st_date)"
   ]
  },
  {
   "cell_type": "code",
   "execution_count": 21,
   "metadata": {},
   "outputs": [
    {
     "data": {
      "text/html": [
       "<div>\n",
       "<style scoped>\n",
       "    .dataframe tbody tr th:only-of-type {\n",
       "        vertical-align: middle;\n",
       "    }\n",
       "\n",
       "    .dataframe tbody tr th {\n",
       "        vertical-align: top;\n",
       "    }\n",
       "\n",
       "    .dataframe thead th {\n",
       "        text-align: right;\n",
       "    }\n",
       "</style>\n",
       "<table border=\"1\" class=\"dataframe\">\n",
       "  <thead>\n",
       "    <tr style=\"text-align: right;\">\n",
       "      <th></th>\n",
       "      <th>name</th>\n",
       "      <th>time</th>\n",
       "    </tr>\n",
       "  </thead>\n",
       "  <tbody>\n",
       "    <tr>\n",
       "      <th>0</th>\n",
       "      <td>에듀윌</td>\n",
       "      <td>2025-01-08 09:00:00</td>\n",
       "    </tr>\n",
       "    <tr>\n",
       "      <th>1</th>\n",
       "      <td>광고</td>\n",
       "      <td>2025-01-08 10:00:00</td>\n",
       "    </tr>\n",
       "    <tr>\n",
       "      <th>2</th>\n",
       "      <td>서울퍼시픽 안과의원</td>\n",
       "      <td>2025-01-08 11:00:00</td>\n",
       "    </tr>\n",
       "    <tr>\n",
       "      <th>3</th>\n",
       "      <td>에듀윌 토익</td>\n",
       "      <td>2025-01-08 12:00:00</td>\n",
       "    </tr>\n",
       "    <tr>\n",
       "      <th>4</th>\n",
       "      <td>HDC 현대산업개발</td>\n",
       "      <td>2025-01-08 13:00:00</td>\n",
       "    </tr>\n",
       "    <tr>\n",
       "      <th>5</th>\n",
       "      <td>뮤지컬 웃는남자</td>\n",
       "      <td>2025-01-08 14:00:00</td>\n",
       "    </tr>\n",
       "    <tr>\n",
       "      <th>6</th>\n",
       "      <td>서울 저스트 치과의원</td>\n",
       "      <td>2025-01-08 15:00:00</td>\n",
       "    </tr>\n",
       "    <tr>\n",
       "      <th>7</th>\n",
       "      <td>밀리의 서재</td>\n",
       "      <td>2025-01-08 16:00:00</td>\n",
       "    </tr>\n",
       "    <tr>\n",
       "      <th>8</th>\n",
       "      <td>탑마루</td>\n",
       "      <td>2025-01-08 17:00:00</td>\n",
       "    </tr>\n",
       "    <tr>\n",
       "      <th>9</th>\n",
       "      <td>에듀윌</td>\n",
       "      <td>2025-01-08 18:00:00</td>\n",
       "    </tr>\n",
       "    <tr>\n",
       "      <th>10</th>\n",
       "      <td>광고</td>\n",
       "      <td>2025-01-08 19:00:00</td>\n",
       "    </tr>\n",
       "    <tr>\n",
       "      <th>11</th>\n",
       "      <td>서울퍼시픽 안과의원</td>\n",
       "      <td>2025-01-08 20:00:00</td>\n",
       "    </tr>\n",
       "    <tr>\n",
       "      <th>12</th>\n",
       "      <td>에듀윌 토익</td>\n",
       "      <td>2025-01-08 21:00:00</td>\n",
       "    </tr>\n",
       "    <tr>\n",
       "      <th>13</th>\n",
       "      <td>HDC 현대산업개발</td>\n",
       "      <td>2025-01-08 22:00:00</td>\n",
       "    </tr>\n",
       "    <tr>\n",
       "      <th>14</th>\n",
       "      <td>뮤지컬 웃는남자</td>\n",
       "      <td>2025-01-08 23:00:00</td>\n",
       "    </tr>\n",
       "  </tbody>\n",
       "</table>\n",
       "</div>"
      ],
      "text/plain": [
       "           name                time\n",
       "0           에듀윌 2025-01-08 09:00:00\n",
       "1            광고 2025-01-08 10:00:00\n",
       "2    서울퍼시픽 안과의원 2025-01-08 11:00:00\n",
       "3        에듀윌 토익 2025-01-08 12:00:00\n",
       "4    HDC 현대산업개발 2025-01-08 13:00:00\n",
       "5      뮤지컬 웃는남자 2025-01-08 14:00:00\n",
       "6   서울 저스트 치과의원 2025-01-08 15:00:00\n",
       "7        밀리의 서재 2025-01-08 16:00:00\n",
       "8           탑마루 2025-01-08 17:00:00\n",
       "9           에듀윌 2025-01-08 18:00:00\n",
       "10           광고 2025-01-08 19:00:00\n",
       "11   서울퍼시픽 안과의원 2025-01-08 20:00:00\n",
       "12       에듀윌 토익 2025-01-08 21:00:00\n",
       "13   HDC 현대산업개발 2025-01-08 22:00:00\n",
       "14     뮤지컬 웃는남자 2025-01-08 23:00:00"
      ]
     },
     "execution_count": 21,
     "metadata": {},
     "output_type": "execute_result"
    }
   ],
   "source": [
    "final_exposure"
   ]
  },
  {
   "cell_type": "code",
   "execution_count": 22,
   "metadata": {},
   "outputs": [
    {
     "name": "stdout",
     "output_type": "stream",
     "text": [
      "Error occurred: strptime() argument 1 must be str, not Timestamp\n"
     ]
    }
   ],
   "source": [
    "import pymysql\n",
    "from datetime import datetime, timedelta\n",
    "\n",
    "def insert_exposure_data_from_dataframe(df):\n",
    "    # MySQL 데이터베이스 연결\n",
    "    connection = pymysql.connect(\n",
    "        host=par['host'],\n",
    "        user=par['username'],\n",
    "        password=par['password'],\n",
    "        database=par['database']\n",
    "    )\n",
    "\n",
    "    try:\n",
    "        with connection.cursor() as cursor:\n",
    "            for _, row in df.iterrows():\n",
    "                cursor.execute(\n",
    "                    \"SELECT ad_id FROM ad_info WHERE title = %s\",\n",
    "                    (row['name'],)\n",
    "                )\n",
    "                result = cursor.fetchone()\n",
    "                                \n",
    "                if result:\n",
    "                    ad_id = result[0]\n",
    "                    # exposure 테이블에 데이터 삽입\n",
    "                    start_time = datetime.strptime(row['time'], '%Y-%m-%d %H:%M:%S')\n",
    "                    end_time = start_time + timedelta(hours=1)\n",
    "                    \n",
    "                    cursor.execute(\n",
    "                        \"\"\"\n",
    "                        INSERT INTO exposure (start_time, end_time, ad_id, region_id)\n",
    "                        VALUES (%s, %s, %s, %s)\n",
    "                        \"\"\",\n",
    "                        (\n",
    "                            start_time,\n",
    "                            end_time,\n",
    "                            ad_id,\n",
    "                            2  # region_id는 2로 고정\n",
    "                        )\n",
    "                    )\n",
    "\n",
    "            # 변경사항 커밋\n",
    "            connection.commit()\n",
    "            print(\"Exposure data inserted successfully!\")\n",
    "\n",
    "    except Exception as e:\n",
    "        print(f\"Error occurred: {e}\")\n",
    "        connection.rollback()\n",
    "\n",
    "    finally:\n",
    "        connection.close()\n",
    "\n",
    "# 데이터프레임이 df라는 변수로 이미 존재한다고 가정\n",
    "# 실행\n",
    "if __name__ == \"__main__\":\n",
    "    insert_exposure_data_from_dataframe(final_exposure)"
   ]
  },
  {
   "cell_type": "code",
   "execution_count": null,
   "metadata": {},
   "outputs": [],
   "source": [
    "# # 결과 출력\n",
    "# display(final_exposure)\n",
    "\n",
    "# # 데이터베이스에 데이터 삽입\n",
    "# insert_exposure_data_from_dataframe(final_exposure)"
   ]
  }
 ],
 "metadata": {
  "colab": {
   "provenance": []
  },
  "kernelspec": {
   "display_name": "BigProject",
   "language": "python",
   "name": "python3"
  },
  "language_info": {
   "codemirror_mode": {
    "name": "ipython",
    "version": 3
   },
   "file_extension": ".py",
   "mimetype": "text/x-python",
   "name": "python",
   "nbconvert_exporter": "python",
   "pygments_lexer": "ipython3",
   "version": "3.12.8"
  }
 },
 "nbformat": 4,
 "nbformat_minor": 4
}
